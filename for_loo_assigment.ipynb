{
 "cells": [
  {
   "cell_type": "markdown",
   "id": "d002e4d0-c215-4fa5-9d46-17387649f2c9",
   "metadata": {},
   "source": [
    "1.Question 1: Write a Python program to print all the numbers from 1 to 10 using a for loop."
   ]
  },
  {
   "cell_type": "code",
   "execution_count": 3,
   "id": "75d23bcb-30c0-468a-988b-346a9424f2fd",
   "metadata": {},
   "outputs": [
    {
     "name": "stdout",
     "output_type": "stream",
     "text": [
      "1\n",
      "2\n",
      "3\n",
      "4\n",
      "5\n",
      "6\n",
      "7\n",
      "8\n",
      "9\n",
      "10\n"
     ]
    }
   ],
   "source": [
    "for i in range(1,11):\n",
    "    print(i)"
   ]
  },
  {
   "cell_type": "markdown",
   "id": "9864e5d6-a50b-4260-a693-87a46ff28b2f",
   "metadata": {},
   "source": [
    "Question 2: Write a Python program to find the sum of all numbers from 1 to 100 using a for loop."
   ]
  },
  {
   "cell_type": "code",
   "execution_count": 3,
   "id": "a3bf5971-6c75-4547-b060-8dd6c9dd966b",
   "metadata": {},
   "outputs": [
    {
     "name": "stdout",
     "output_type": "stream",
     "text": [
      "sum of all number 1 to 100 :- 5050\n"
     ]
    }
   ],
   "source": [
    "total = 0\n",
    "for i in range(1,101):\n",
    "    total+=i\n",
    "print(\"sum of all number 1 to 100 :-\",total)"
   ]
  },
  {
   "cell_type": "markdown",
   "id": "2024b5f2-d672-4b68-a89a-a0decc6c48cd",
   "metadata": {},
   "source": [
    "Question 3: Write a Python program to print the multiplication table of a given number using a for loop."
   ]
  },
  {
   "cell_type": "code",
   "execution_count": 22,
   "id": "653cd756-9818-420b-b86c-0f20523163bf",
   "metadata": {},
   "outputs": [
    {
     "name": "stdin",
     "output_type": "stream",
     "text": [
      "Enter the table number :  17\n"
     ]
    },
    {
     "name": "stdout",
     "output_type": "stream",
     "text": [
      "17\n",
      "34\n",
      "51\n",
      "68\n",
      "85\n",
      "102\n",
      "119\n",
      "136\n",
      "153\n",
      "170\n"
     ]
    }
   ],
   "source": [
    "number = int(input(\"Enter the table number : \"))\n",
    "for i in range(1, 11):\n",
    "    print(number*i)"
   ]
  },
  {
   "cell_type": "markdown",
   "id": "b4a74817-fb51-4dd2-b8f9-5be14a562b46",
   "metadata": {},
   "source": [
    "Question 4: Write a Python program to count the number of even and odd numbers from a series of numbers using a for loop."
   ]
  },
  {
   "cell_type": "code",
   "execution_count": 41,
   "id": "b827ea97-40e1-4ff3-b6c8-14b1f30ccb23",
   "metadata": {},
   "outputs": [
    {
     "name": "stdin",
     "output_type": "stream",
     "text": [
      "enter the odd/even number : - 2\n"
     ]
    },
    {
     "name": "stdout",
     "output_type": "stream",
     "text": [
      "0 even number\n",
      "1 odd number\n"
     ]
    }
   ],
   "source": [
    "number = int(input(\"enter the odd/even number : -\"))\n",
    "for i in range(number):\n",
    "    if i%2==0:\n",
    "        print(i,\"even number\")\n",
    "    else:\n",
    "        print(i,\"odd number\")"
   ]
  },
  {
   "cell_type": "markdown",
   "id": "94bfafd1-c613-4ba3-97fa-89c2d7a157fd",
   "metadata": {},
   "source": [
    "Question 5: Write a Python program to find the factorial of a number using a for loop."
   ]
  },
  {
   "cell_type": "code",
   "execution_count": 8,
   "id": "4344b04f-b138-4ef6-9e72-77d247430345",
   "metadata": {},
   "outputs": [
    {
     "name": "stdin",
     "output_type": "stream",
     "text": [
      "Enter a number to find its factorial:  5\n"
     ]
    },
    {
     "name": "stdout",
     "output_type": "stream",
     "text": [
      "The factorial of 5 is 120.\n"
     ]
    }
   ],
   "source": [
    "number  = int(input(\"Enter a number to find its factorial: \"))\n",
    "factorial = 1\n",
    "for i in range(1, number + 1):\n",
    "    factorial *= i\n",
    "print(f\"The factorial of {number} is {factorial}.\")   "
   ]
  },
  {
   "cell_type": "markdown",
   "id": "736a724d-4f50-4c74-81d7-5efc68b83bed",
   "metadata": {},
   "source": [
    "Question 6: Write a Python program to print the Fibonacci sequence up to a specified number using a for loop"
   ]
  },
  {
   "cell_type": "code",
   "execution_count": 1,
   "id": "df69b51b-6870-4d26-ada3-b491d9efa203",
   "metadata": {},
   "outputs": [
    {
     "name": "stdout",
     "output_type": "stream",
     "text": [
      "0\n",
      "1\n",
      "1\n",
      "2\n",
      "3\n",
      "5\n",
      "8\n",
      "13\n",
      "21\n",
      "34\n",
      "55\n"
     ]
    }
   ],
   "source": [
    "a = 0\n",
    "b = 1\n",
    "print(a)\n",
    "for i in range(0,10):\n",
    "    a,b = b,a+b\n",
    "    print(a)"
   ]
  },
  {
   "cell_type": "markdown",
   "id": "2558bf66-914e-4804-b491-b5503af52066",
   "metadata": {},
   "source": [
    "Question 7: Write a Python program to check if a given number is prime or not using a for loop."
   ]
  },
  {
   "cell_type": "code",
   "execution_count": 23,
   "id": "08a4ef8b-7713-4986-9f7c-640978c7c198",
   "metadata": {},
   "outputs": [
    {
     "name": "stdin",
     "output_type": "stream",
     "text": [
      "enter the prime number : = 13\n"
     ]
    },
    {
     "name": "stdout",
     "output_type": "stream",
     "text": [
      "prime number\n"
     ]
    }
   ],
   "source": [
    "number = int(input(\"enter the prime number : =\"))\n",
    "for i in range (2,number):\n",
    "    if number % i==0:\n",
    "        print(\" not prime number\")\n",
    "        break\n",
    "else:\n",
    "    print(\"prime number\")\n",
    "    "
   ]
  },
  {
   "cell_type": "markdown",
   "id": "36122aba-fe6c-4441-9d58-de3310b00082",
   "metadata": {},
   "source": [
    "Question 8. Write a Python program to find the largest element in a list using a for loop"
   ]
  },
  {
   "cell_type": "code",
   "execution_count": 26,
   "id": "bf69e8a2-7039-4a15-802c-d6854a22de98",
   "metadata": {},
   "outputs": [
    {
     "name": "stdout",
     "output_type": "stream",
     "text": [
      "552\n"
     ]
    }
   ],
   "source": [
    "list_1 = [5,69,8,5,6,9,5,8,5,8,552,41]\n",
    "largest = list_1[0]\n",
    "for i in list_1:\n",
    "    if i > largest:\n",
    "        largest = i\n",
    "print(largest)"
   ]
  },
  {
   "cell_type": "markdown",
   "id": "430f573c-b8ee-47ee-8eb0-04a20d613623",
   "metadata": {},
   "source": [
    "Question 9. Write a Python program to reverse a given string using a for loop."
   ]
  },
  {
   "cell_type": "code",
   "execution_count": 12,
   "id": "40e70b17-5bfe-4ccf-930b-a4cd14aa9ce4",
   "metadata": {},
   "outputs": [
    {
     "name": "stdout",
     "output_type": "stream",
     "text": [
      "original string := ritik,kumar\n",
      "reverse string := ramuk,kitir\n"
     ]
    }
   ],
   "source": [
    "string = \"ritik,kumar\"\n",
    "reverse_string = \"\"\n",
    "for i in string:\n",
    "    reverse_string = i + reverse_string\n",
    "print(\"original string :=\",string)\n",
    "print(\"reverse string :=\",reverse_string)"
   ]
  },
  {
   "cell_type": "markdown",
   "id": "2d90e1df-f06d-4272-8366-6ae248fb80bc",
   "metadata": {},
   "source": [
    "Question 10: Write a Python program to find the common elements between two lists using a for loop."
   ]
  },
  {
   "cell_type": "code",
   "execution_count": 28,
   "id": "c6bb835d-5e29-44ee-8ce3-ddf69eb0b4e0",
   "metadata": {},
   "outputs": [
    {
     "name": "stdout",
     "output_type": "stream",
     "text": [
      "Common elements between the two lists are: [1, 6]\n"
     ]
    }
   ],
   "source": [
    "list1 = [1,2,3,6]\n",
    "list2 = [4,5,1,6]\n",
    "\n",
    "common_elements = []\n",
    "\n",
    "for element in list1:\n",
    "    if element in list2:\n",
    "        common_elements.append(element)\n",
    "\n",
    "print(\"Common elements between the two lists are:\", common_elements)\n"
   ]
  }
 ],
 "metadata": {
  "kernelspec": {
   "display_name": "Python 3 (ipykernel)",
   "language": "python",
   "name": "python3"
  },
  "language_info": {
   "codemirror_mode": {
    "name": "ipython",
    "version": 3
   },
   "file_extension": ".py",
   "mimetype": "text/x-python",
   "name": "python",
   "nbconvert_exporter": "python",
   "pygments_lexer": "ipython3",
   "version": "3.12.7"
  }
 },
 "nbformat": 4,
 "nbformat_minor": 5
}
